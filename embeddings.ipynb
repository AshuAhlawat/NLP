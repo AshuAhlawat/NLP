{
 "cells": [
  {
   "cell_type": "code",
   "execution_count": 32,
   "metadata": {},
   "outputs": [],
   "source": [
    "import gensim.downloader as api\n",
    "import torch"
   ]
  },
  {
   "cell_type": "code",
   "execution_count": 10,
   "metadata": {},
   "outputs": [
    {
     "name": "stdout",
     "output_type": "stream",
     "text": [
      "[==================================================] 100.0% 1662.8/1662.8MB downloaded\n"
     ]
    }
   ],
   "source": [
    "model = api.load(\"word2vec-google-news-300\")"
   ]
  },
  {
   "cell_type": "code",
   "execution_count": 11,
   "metadata": {},
   "outputs": [
    {
     "data": {
      "text/plain": [
       "3000000"
      ]
     },
     "execution_count": 11,
     "metadata": {},
     "output_type": "execute_result"
    }
   ],
   "source": [
    "word_vectors = model\n",
    "len(word_vectors)"
   ]
  },
  {
   "cell_type": "code",
   "execution_count": 30,
   "metadata": {},
   "outputs": [
    {
     "name": "stdout",
     "output_type": "stream",
     "text": [
      "0.05646347\n",
      "0.66404927\n"
     ]
    }
   ],
   "source": [
    "print(word_vectors.similarity(\"sad\", \"building\"))\n",
    "print(word_vectors.similarity(\"computer\", \"laptop\"))"
   ]
  },
  {
   "cell_type": "code",
   "execution_count": 31,
   "metadata": {},
   "outputs": [
    {
     "data": {
      "text/plain": [
       "[('queen', 0.7118193507194519),\n",
       " ('monarch', 0.6189674139022827),\n",
       " ('princess', 0.5902431011199951),\n",
       " ('crown_prince', 0.5499460697174072),\n",
       " ('prince', 0.5377321839332581)]"
      ]
     },
     "execution_count": 31,
     "metadata": {},
     "output_type": "execute_result"
    }
   ],
   "source": [
    "word_vectors.most_similar(positive=[\"king\", \"woman\"], negative=[\"man\"], topn=5)"
   ]
  },
  {
   "cell_type": "code",
   "execution_count": 47,
   "metadata": {},
   "outputs": [
    {
     "data": {
      "text/plain": [
       "Parameter containing:\n",
       "tensor([[ 0.4169, -1.9062, -0.6841, -1.2972, -0.1680],\n",
       "        [ 0.2259, -0.5508, -1.0844, -1.2403, -1.0485],\n",
       "        [ 0.5295,  0.8012, -0.0319,  0.2599, -0.7137],\n",
       "        [ 0.0431,  1.1327, -0.8175, -0.6701,  0.0957],\n",
       "        [ 3.3030, -0.1797, -1.1548,  0.1201, -0.1621],\n",
       "        [ 0.4111, -0.7402, -0.1578,  0.0556, -0.5582],\n",
       "        [-0.1578, -0.3608, -1.7317, -0.5521, -2.6393],\n",
       "        [ 1.5286,  1.6202, -0.9751,  1.1022,  2.2733],\n",
       "        [ 2.1870,  0.0099,  1.3937, -0.6775,  0.9477]], requires_grad=True)"
      ]
     },
     "execution_count": 47,
     "metadata": {},
     "output_type": "execute_result"
    }
   ],
   "source": [
    "embeddings = torch.nn.Embedding(9,5)\n",
    "embeddings.weight"
   ]
  },
  {
   "cell_type": "code",
   "execution_count": 48,
   "metadata": {},
   "outputs": [
    {
     "data": {
      "text/plain": [
       "tensor([[ 3.3030, -0.1797, -1.1548,  0.1201, -0.1621],\n",
       "        [-0.1578, -0.3608, -1.7317, -0.5521, -2.6393],\n",
       "        [ 2.1870,  0.0099,  1.3937, -0.6775,  0.9477],\n",
       "        [ 0.2259, -0.5508, -1.0844, -1.2403, -1.0485]],\n",
       "       grad_fn=<EmbeddingBackward0>)"
      ]
     },
     "execution_count": 48,
     "metadata": {},
     "output_type": "execute_result"
    }
   ],
   "source": [
    "tokens = torch.tensor([4,6,8,1])\n",
    "embeddings(tokens)"
   ]
  }
 ],
 "metadata": {
  "kernelspec": {
   "display_name": "Python 3",
   "language": "python",
   "name": "python3"
  },
  "language_info": {
   "codemirror_mode": {
    "name": "ipython",
    "version": 3
   },
   "file_extension": ".py",
   "mimetype": "text/x-python",
   "name": "python",
   "nbconvert_exporter": "python",
   "pygments_lexer": "ipython3",
   "version": "3.10.8"
  },
  "orig_nbformat": 4
 },
 "nbformat": 4,
 "nbformat_minor": 2
}
