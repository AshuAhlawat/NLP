{
 "cells": [
  {
   "cell_type": "code",
   "execution_count": 1,
   "id": "d4da89a5",
   "metadata": {},
   "outputs": [],
   "source": [
    "import re\n",
    "import nltk\n",
    "import tiktoken"
   ]
  },
  {
   "cell_type": "markdown",
   "id": "074fe28b",
   "metadata": {},
   "source": [
    "Tokenization Steps\n",
    "- Splitting text into words or subwords called tokens\n",
    "- Convert tokens into numerical IDs (make vocabulary)\n",
    "- Give vector representations to IDs"
   ]
  },
  {
   "cell_type": "code",
   "execution_count": 33,
   "id": "f7274b98",
   "metadata": {},
   "outputs": [],
   "source": [
    "class Tokenizer:\n",
    "    def __init__(self,text):\n",
    "        preprocessed = re.split( r'([\"()!@#$%^&*:;\\'\",./?~`]|--|\\s)', data )\n",
    "        preprocessed = [item.strip() for item in preprocessed if item.strip()]\n",
    "        unique_words = list(set(preprocessed))\n",
    "        unique_words.sort()\n",
    "        \n",
    "        self.vocabulary = unique_words + [\"<unk>\", \"<|endoftoken|>\"]\n",
    "        \n",
    "    def encode(self, text):\n",
    "        preprocessed = re.split( r'([\"()!@#$%^&*:;\\'\",./?~`]|--|\\s)', text )\n",
    "        preprocessed = [item.strip() for item in preprocessed if item.strip()]\n",
    "        \n",
    "        for i in range(len(preprocessed)):\n",
    "            try:\n",
    "                preprocessed[i] = self.vocabulary.index(preprocessed[i])    \n",
    "            except:\n",
    "                preprocessed[i] = self.vocabulary.index(\"<unk>\")\n",
    "        \n",
    "        return preprocessed    \n",
    "        \n",
    "    def decode(self, ids):\n",
    "        text = []\n",
    "        for i in range(len(ids)):\n",
    "            text.append(self.vocabulary[ids[i]])\n",
    "\n",
    "        return text"
   ]
  },
  {
   "cell_type": "code",
   "execution_count": 34,
   "id": "601310be",
   "metadata": {},
   "outputs": [
    {
     "name": "stdout",
     "output_type": "stream",
     "text": [
      "20479\n"
     ]
    }
   ],
   "source": [
    "with open(\"./archive/theverdict.txt\") as book:\n",
    "    data = book.read()\n",
    "    \n",
    "print(len(data))"
   ]
  },
  {
   "cell_type": "code",
   "execution_count": 35,
   "id": "6f56c376",
   "metadata": {},
   "outputs": [
    {
     "name": "stdout",
     "output_type": "stream",
     "text": [
      "1141\n"
     ]
    }
   ],
   "source": [
    "tk = Tokenizer(data)\n",
    "print(len(tk.vocabulary))\n",
    "string = \"Hello my name is something. <|endoftext|> Something is nothing!\""
   ]
  },
  {
   "cell_type": "code",
   "execution_count": 36,
   "id": "828225cc",
   "metadata": {},
   "outputs": [
    {
     "data": {
      "text/plain": [
       "[1139, 707, 1139, 595, 921, 7, 1139, 1139, 595, 723, 0]"
      ]
     },
     "execution_count": 36,
     "metadata": {},
     "output_type": "execute_result"
    }
   ],
   "source": [
    "code = tk.encode(string)\n",
    "code"
   ]
  },
  {
   "cell_type": "code",
   "execution_count": 37,
   "id": "6f9f5465",
   "metadata": {},
   "outputs": [
    {
     "data": {
      "text/plain": [
       "['<unk>',\n",
       " 'my',\n",
       " '<unk>',\n",
       " 'is',\n",
       " 'something',\n",
       " '.',\n",
       " '<unk>',\n",
       " '<unk>',\n",
       " 'is',\n",
       " 'nothing',\n",
       " '!']"
      ]
     },
     "execution_count": 37,
     "metadata": {},
     "output_type": "execute_result"
    }
   ],
   "source": [
    "tokens = tk.decode(code)\n",
    "tokens"
   ]
  },
  {
   "cell_type": "code",
   "execution_count": 38,
   "id": "3671e822",
   "metadata": {},
   "outputs": [
    {
     "data": {
      "text/plain": [
       "['Hello',\n",
       " 'my',\n",
       " 'name',\n",
       " 'is',\n",
       " 'something',\n",
       " '.',\n",
       " '<',\n",
       " '|endoftext|',\n",
       " '>',\n",
       " 'Something',\n",
       " 'is',\n",
       " 'nothing',\n",
       " '!']"
      ]
     },
     "execution_count": 38,
     "metadata": {},
     "output_type": "execute_result"
    }
   ],
   "source": [
    "nltk.tokenize.word_tokenize(string)"
   ]
  },
  {
   "cell_type": "code",
   "execution_count": 39,
   "id": "562837ce",
   "metadata": {},
   "outputs": [
    {
     "data": {
      "text/plain": [
       "[15496, 616, 1438, 318, 1223, 13, 220, 50256, 13742, 318, 2147, 0]"
      ]
     },
     "execution_count": 39,
     "metadata": {},
     "output_type": "execute_result"
    }
   ],
   "source": [
    "tiktokenizer = tiktoken.get_encoding(\"gpt2\")\n",
    "tiktokenizer.encode(string, allowed_special= {\"<|endoftext|>\"})"
   ]
  }
 ],
 "metadata": {
  "kernelspec": {
   "display_name": "Python 3",
   "language": "python",
   "name": "python3"
  },
  "language_info": {
   "codemirror_mode": {
    "name": "ipython",
    "version": 3
   },
   "file_extension": ".py",
   "mimetype": "text/x-python",
   "name": "python",
   "nbconvert_exporter": "python",
   "pygments_lexer": "ipython3",
   "version": "3.10.8"
  }
 },
 "nbformat": 4,
 "nbformat_minor": 5
}
