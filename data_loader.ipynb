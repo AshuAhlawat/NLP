{
 "cells": [
  {
   "cell_type": "code",
   "execution_count": 25,
   "id": "17b03d5e",
   "metadata": {},
   "outputs": [],
   "source": [
    "import tiktoken\n",
    "import torch\n",
    "from torch.utils.data import Dataset, DataLoader"
   ]
  },
  {
   "cell_type": "code",
   "execution_count": null,
   "id": "ca71c209",
   "metadata": {},
   "outputs": [
    {
     "data": {
      "text/plain": [
       "5145"
      ]
     },
     "execution_count": 7,
     "metadata": {},
     "output_type": "execute_result"
    }
   ],
   "source": [
    "with open('./archive/theverdict.txt') as f:\n",
    "    raw_text = f.read()\n",
    "    \n",
    "tiktokenizer = tiktoken.encoding_for_model(\"gpt2\")\n",
    "tokens = tiktokenizer.encode(raw_text)\n",
    "len(tokens)"
   ]
  },
  {
   "cell_type": "code",
   "execution_count": null,
   "id": "fab29252",
   "metadata": {},
   "outputs": [
    {
     "name": "stdout",
     "output_type": "stream",
     "text": [
      "I   >    H\n",
      "I H   >   AD\n",
      "I HAD   >    always\n",
      "I HAD always   >    thought\n",
      "I HAD always thought   >    Jack\n",
      "I HAD always thought Jack   >    G\n",
      "I HAD always thought Jack G   >   is\n",
      "I HAD always thought Jack Gis   >   burn\n",
      "I HAD always thought Jack Gisburn   >    rather\n",
      "I HAD always thought Jack Gisburn rather   >    a\n"
     ]
    }
   ],
   "source": [
    "context_limit = 10\n",
    "\n",
    "for i in range(1,context_limit+1):\n",
    "    X = tokens[:i]\n",
    "    y = tokens[i]\n",
    "    print(tiktokenizer.decode(X),\"  >  \" ,tiktokenizer.decode([y]))"
   ]
  },
  {
   "cell_type": "code",
   "execution_count": 13,
   "id": "0c115ac3",
   "metadata": {},
   "outputs": [],
   "source": [
    "class GPTDataset(Dataset):\n",
    "    def __init__(self, txt, tokenizer, max_length, stride):\n",
    "        self.input_ids = []\n",
    "        self.target_ids = []\n",
    "        \n",
    "        token_ids = tokenizer.encode(txt, allowed_special= {\"<|endoftext|>\",})\n",
    "        \n",
    "        for i in range(0, len(token_ids) - max_length, stride):\n",
    "            input_chunk = token_ids[i:i + max_length]\n",
    "            target_chunk = token_ids[i + 1: i + max_length + 1]\n",
    "            self.input_ids.append(torch.tensor(input_chunk))\n",
    "            self.target_ids.append(torch.tensor(target_chunk))\n",
    "\n",
    "    def __len__(self):\n",
    "        return len(self.input_ids)\n",
    "\n",
    "    def __getitem__(self, idx):\n",
    "        return self.input_ids[idx], self.target_ids[idx]"
   ]
  },
  {
   "cell_type": "code",
   "execution_count": 26,
   "id": "3fc1d577",
   "metadata": {},
   "outputs": [],
   "source": [
    "dataset = GPTDataset(raw_text, tiktokenizer, max_length = 4, stride = 4)\n",
    "dataloader = DataLoader(dataset, batch_size = 8, shuffle = False, drop_last = True, num_workers = 0)"
   ]
  },
  {
   "cell_type": "code",
   "execution_count": 33,
   "id": "7ec54c1b",
   "metadata": {},
   "outputs": [
    {
     "name": "stdout",
     "output_type": "stream",
     "text": [
      "tensor([  40,  367, 2885, 1464]) tensor([ 367, 2885, 1464, 1807])\n"
     ]
    }
   ],
   "source": [
    "for chunk in dataloader:\n",
    "    input_data, target = chunk\n",
    "    print(input_data[0], target[0])\n",
    "    break"
   ]
  }
 ],
 "metadata": {
  "kernelspec": {
   "display_name": "Python 3",
   "language": "python",
   "name": "python3"
  },
  "language_info": {
   "codemirror_mode": {
    "name": "ipython",
    "version": 3
   },
   "file_extension": ".py",
   "mimetype": "text/x-python",
   "name": "python",
   "nbconvert_exporter": "python",
   "pygments_lexer": "ipython3",
   "version": "3.10.8"
  }
 },
 "nbformat": 4,
 "nbformat_minor": 5
}
